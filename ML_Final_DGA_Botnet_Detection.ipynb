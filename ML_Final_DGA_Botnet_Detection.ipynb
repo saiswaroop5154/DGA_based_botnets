{
 "cells": [
  {
   "cell_type": "code",
   "execution_count": 34,
   "id": "814f9bb3",
   "metadata": {},
   "outputs": [],
   "source": [
    "import pandas as pd\n",
    "import numpy as np \n",
    "import sklearn\n",
    "from sklearn.preprocessing import LabelEncoder\n",
    "from sklearn.model_selection import train_test_split\n",
    "from sklearn.feature_extraction.text import CountVectorizer\n",
    "import nltk\n",
    "from sklearn.linear_model import LogisticRegression\n",
    "from sklearn.tree import DecisionTreeClassifier\n",
    "from sklearn.ensemble import RandomForestClassifier\n",
    "from sklearn.metrics import confusion_matrix, accuracy_score, precision_score, recall_score\n",
    "from sklearn.preprocessing import StandardScaler\n",
    "import re\n",
    "import warnings\n",
    "warnings.filterwarnings('ignore')"
   ]
  },
  {
   "cell_type": "code",
   "execution_count": 35,
   "id": "32b70d5a",
   "metadata": {},
   "outputs": [],
   "source": [
    "dataset = pd.read_csv('dga_domains_sample.csv')"
   ]
  },
  {
   "cell_type": "code",
   "execution_count": 36,
   "id": "fbdef67b",
   "metadata": {},
   "outputs": [],
   "source": [
    "dataset.columns=['Type','DGA_family','Domain']"
   ]
  },
  {
   "cell_type": "code",
   "execution_count": 37,
   "id": "8bea588a",
   "metadata": {},
   "outputs": [
    {
     "data": {
      "text/html": [
       "<div>\n",
       "<style scoped>\n",
       "    .dataframe tbody tr th:only-of-type {\n",
       "        vertical-align: middle;\n",
       "    }\n",
       "\n",
       "    .dataframe tbody tr th {\n",
       "        vertical-align: top;\n",
       "    }\n",
       "\n",
       "    .dataframe thead th {\n",
       "        text-align: right;\n",
       "    }\n",
       "</style>\n",
       "<table border=\"1\" class=\"dataframe\">\n",
       "  <thead>\n",
       "    <tr style=\"text-align: right;\">\n",
       "      <th></th>\n",
       "      <th>Type</th>\n",
       "      <th>DGA_family</th>\n",
       "      <th>Domain</th>\n",
       "    </tr>\n",
       "  </thead>\n",
       "  <tbody>\n",
       "    <tr>\n",
       "      <th>0</th>\n",
       "      <td>dga</td>\n",
       "      <td>corebot</td>\n",
       "      <td>cvyh1po636avyrsxebwbkn7.ddns.net</td>\n",
       "    </tr>\n",
       "    <tr>\n",
       "      <th>1</th>\n",
       "      <td>legit</td>\n",
       "      <td>alexa</td>\n",
       "      <td>plasticbags.sa.com</td>\n",
       "    </tr>\n",
       "    <tr>\n",
       "      <th>2</th>\n",
       "      <td>legit</td>\n",
       "      <td>alexa</td>\n",
       "      <td>mzltrack.com</td>\n",
       "    </tr>\n",
       "    <tr>\n",
       "      <th>3</th>\n",
       "      <td>legit</td>\n",
       "      <td>alexa</td>\n",
       "      <td>miss-slim.ru</td>\n",
       "    </tr>\n",
       "    <tr>\n",
       "      <th>4</th>\n",
       "      <td>dga</td>\n",
       "      <td>ranbyus</td>\n",
       "      <td>txumyqrubwutbb.cc</td>\n",
       "    </tr>\n",
       "  </tbody>\n",
       "</table>\n",
       "</div>"
      ],
      "text/plain": [
       "    Type DGA_family                            Domain\n",
       "0    dga    corebot  cvyh1po636avyrsxebwbkn7.ddns.net\n",
       "1  legit      alexa                plasticbags.sa.com\n",
       "2  legit      alexa                      mzltrack.com\n",
       "3  legit      alexa                      miss-slim.ru\n",
       "4    dga    ranbyus                 txumyqrubwutbb.cc"
      ]
     },
     "execution_count": 37,
     "metadata": {},
     "output_type": "execute_result"
    }
   ],
   "source": [
    "dataset.head()"
   ]
  },
  {
   "cell_type": "code",
   "execution_count": 38,
   "id": "03408842",
   "metadata": {},
   "outputs": [
    {
     "data": {
      "text/plain": [
       "(9999, 3)"
      ]
     },
     "execution_count": 38,
     "metadata": {},
     "output_type": "execute_result"
    }
   ],
   "source": [
    "dataset.shape"
   ]
  },
  {
   "cell_type": "code",
   "execution_count": 39,
   "id": "7d675755",
   "metadata": {},
   "outputs": [
    {
     "data": {
      "text/html": [
       "<div>\n",
       "<style scoped>\n",
       "    .dataframe tbody tr th:only-of-type {\n",
       "        vertical-align: middle;\n",
       "    }\n",
       "\n",
       "    .dataframe tbody tr th {\n",
       "        vertical-align: top;\n",
       "    }\n",
       "\n",
       "    .dataframe thead th {\n",
       "        text-align: right;\n",
       "    }\n",
       "</style>\n",
       "<table border=\"1\" class=\"dataframe\">\n",
       "  <thead>\n",
       "    <tr style=\"text-align: right;\">\n",
       "      <th></th>\n",
       "      <th>DGA_family</th>\n",
       "      <th>Domain</th>\n",
       "    </tr>\n",
       "  </thead>\n",
       "  <tbody>\n",
       "    <tr>\n",
       "      <th>0</th>\n",
       "      <td>corebot</td>\n",
       "      <td>cvyh1po636avyrsxebwbkn7.ddns.net</td>\n",
       "    </tr>\n",
       "    <tr>\n",
       "      <th>1</th>\n",
       "      <td>alexa</td>\n",
       "      <td>plasticbags.sa.com</td>\n",
       "    </tr>\n",
       "    <tr>\n",
       "      <th>2</th>\n",
       "      <td>alexa</td>\n",
       "      <td>mzltrack.com</td>\n",
       "    </tr>\n",
       "    <tr>\n",
       "      <th>3</th>\n",
       "      <td>alexa</td>\n",
       "      <td>miss-slim.ru</td>\n",
       "    </tr>\n",
       "    <tr>\n",
       "      <th>4</th>\n",
       "      <td>ranbyus</td>\n",
       "      <td>txumyqrubwutbb.cc</td>\n",
       "    </tr>\n",
       "    <tr>\n",
       "      <th>...</th>\n",
       "      <td>...</td>\n",
       "      <td>...</td>\n",
       "    </tr>\n",
       "    <tr>\n",
       "      <th>9994</th>\n",
       "      <td>murofet</td>\n",
       "      <td>k37f12b28pza37kvfth54gydvgqayoujxdreu.biz</td>\n",
       "    </tr>\n",
       "    <tr>\n",
       "      <th>9995</th>\n",
       "      <td>padcrypt</td>\n",
       "      <td>bkfoebdlccafmfbe.org</td>\n",
       "    </tr>\n",
       "    <tr>\n",
       "      <th>9996</th>\n",
       "      <td>fobber</td>\n",
       "      <td>mdoqihhgij.com</td>\n",
       "    </tr>\n",
       "    <tr>\n",
       "      <th>9997</th>\n",
       "      <td>alexa</td>\n",
       "      <td>portinhola.com.br</td>\n",
       "    </tr>\n",
       "    <tr>\n",
       "      <th>9998</th>\n",
       "      <td>murofet</td>\n",
       "      <td>qjswqelqwgrqkia.com</td>\n",
       "    </tr>\n",
       "  </tbody>\n",
       "</table>\n",
       "<p>9999 rows × 2 columns</p>\n",
       "</div>"
      ],
      "text/plain": [
       "     DGA_family                                     Domain\n",
       "0       corebot           cvyh1po636avyrsxebwbkn7.ddns.net\n",
       "1         alexa                         plasticbags.sa.com\n",
       "2         alexa                               mzltrack.com\n",
       "3         alexa                               miss-slim.ru\n",
       "4       ranbyus                          txumyqrubwutbb.cc\n",
       "...         ...                                        ...\n",
       "9994    murofet  k37f12b28pza37kvfth54gydvgqayoujxdreu.biz\n",
       "9995   padcrypt                       bkfoebdlccafmfbe.org\n",
       "9996     fobber                             mdoqihhgij.com\n",
       "9997      alexa                          portinhola.com.br\n",
       "9998    murofet                        qjswqelqwgrqkia.com\n",
       "\n",
       "[9999 rows x 2 columns]"
      ]
     },
     "execution_count": 39,
     "metadata": {},
     "output_type": "execute_result"
    }
   ],
   "source": [
    "x=dataset.iloc[:, 1:3] #DGA_Family,Domain\n",
    "y=dataset.iloc[:,0] #Type\n",
    "x"
   ]
  },
  {
   "cell_type": "code",
   "execution_count": 40,
   "id": "f7fc4b01",
   "metadata": {},
   "outputs": [],
   "source": [
    "dataset = dataset.dropna(how='any',axis=0) "
   ]
  },
  {
   "cell_type": "code",
   "execution_count": 41,
   "id": "57ab1ca7",
   "metadata": {},
   "outputs": [
    {
     "data": {
      "text/plain": [
       "Type          0\n",
       "DGA_family    0\n",
       "Domain        0\n",
       "dtype: int64"
      ]
     },
     "execution_count": 41,
     "metadata": {},
     "output_type": "execute_result"
    }
   ],
   "source": [
    "dataset.isnull().sum()"
   ]
  },
  {
   "cell_type": "code",
   "execution_count": 42,
   "id": "79fdf3f2",
   "metadata": {},
   "outputs": [],
   "source": [
    "def preprocess_column(col_value):\n",
    "    col_value = re.sub('[^a-zA-Z]', ' ', col_value)\n",
    "    col_value = col_value.lower()\n",
    "    col_value = col_value.split()\n",
    "    col_value = ' '.join(col_value)\n",
    "    return col_value"
   ]
  },
  {
   "cell_type": "code",
   "execution_count": 43,
   "id": "0f67795a",
   "metadata": {},
   "outputs": [],
   "source": [
    "cv = CountVectorizer(max_features = 200)"
   ]
  },
  {
   "cell_type": "code",
   "execution_count": 44,
   "id": "fab81af7",
   "metadata": {},
   "outputs": [],
   "source": [
    "preprocessed_domain = []\n",
    "for domain in dataset['Domain']:\n",
    "    preprocessed = preprocess_column(domain)\n",
    "    preprocessed_domain.append(preprocessed)"
   ]
  },
  {
   "cell_type": "code",
   "execution_count": 45,
   "id": "722b0f2e",
   "metadata": {},
   "outputs": [],
   "source": [
    "x_new = cv.fit_transform(preprocessed_domain).toarray()"
   ]
  },
  {
   "cell_type": "code",
   "execution_count": 46,
   "id": "77ae0bc1",
   "metadata": {},
   "outputs": [],
   "source": [
    "le = LabelEncoder()\n",
    "dataset['Type'] = le.fit_transform(dataset['Type'])\n",
    "dga_family = dataset['DGA_family']\n",
    "new_x = pd.DataFrame(x_new, dga_family)"
   ]
  },
  {
   "cell_type": "code",
   "execution_count": 47,
   "id": "1ce908ac",
   "metadata": {},
   "outputs": [
    {
     "data": {
      "text/plain": [
       "0       0\n",
       "1       1\n",
       "2       1\n",
       "3       1\n",
       "4       0\n",
       "       ..\n",
       "9994    0\n",
       "9995    0\n",
       "9996    0\n",
       "9997    1\n",
       "9998    0\n",
       "Name: Type, Length: 9999, dtype: int32"
      ]
     },
     "execution_count": 47,
     "metadata": {},
     "output_type": "execute_result"
    }
   ],
   "source": [
    "y = dataset['Type']\n",
    "y"
   ]
  },
  {
   "cell_type": "code",
   "execution_count": 48,
   "id": "1ed42f8b",
   "metadata": {},
   "outputs": [],
   "source": [
    "x_train,x_test,y_train,y_test = train_test_split(new_x,y,test_size = 0.2, random_state = 0)"
   ]
  },
  {
   "cell_type": "code",
   "execution_count": 49,
   "id": "c6fc79e1",
   "metadata": {},
   "outputs": [
    {
     "name": "stdout",
     "output_type": "stream",
     "text": [
      "(7999, 200)\n",
      "(7999,)\n",
      "(2000, 200)\n",
      "(2000,)\n"
     ]
    }
   ],
   "source": [
    "print(x_train.shape)\n",
    "print(y_train.shape)\n",
    "print(x_test.shape)\n",
    "print(y_test.shape)"
   ]
  },
  {
   "cell_type": "code",
   "execution_count": 50,
   "id": "13f944b8",
   "metadata": {},
   "outputs": [],
   "source": [
    "#Random Forest\n",
    "from sklearn.ensemble import RandomForestClassifier\n",
    "rfm=RandomForestClassifier(n_estimators=75,oob_score=True,n_jobs=-1, random_state=20,max_features=None,min_samples_leaf=2)\n",
    "rfm.fit(x_train,y_train)\n",
    "rfm_ypred=rfm.predict(x_test)"
   ]
  },
  {
   "cell_type": "code",
   "execution_count": 51,
   "id": "18fe07e5",
   "metadata": {},
   "outputs": [],
   "source": [
    "#Logistic Regression\n",
    "from sklearn.linear_model import LogisticRegression\n",
    "lr=LogisticRegression()\n",
    "lr.fit(x_train,y_train)\n",
    "lr_ypred=lr.predict(x_test)"
   ]
  },
  {
   "cell_type": "code",
   "execution_count": 52,
   "id": "32e98c0b",
   "metadata": {},
   "outputs": [],
   "source": [
    "# Decision Tree\n",
    "from sklearn.tree import DecisionTreeClassifier\n",
    "dtree=DecisionTreeClassifier(max_depth=40,random_state=18,max_features=None, min_samples_leaf=8)\n",
    "dtree.fit(x_train,y_train)\n",
    "dtree_ypred=dtree.predict(x_test)"
   ]
  },
  {
   "cell_type": "code",
   "execution_count": 53,
   "id": "b98a3be7",
   "metadata": {},
   "outputs": [
    {
     "name": "stdout",
     "output_type": "stream",
     "text": [
      "For Random Forest\n",
      "Confusion Matrix: \n",
      "[[586 420]\n",
      " [178 816]]\n",
      "Accuracy Score:  0.701\n",
      "Precision Score:  0.6601941747572816\n",
      "Recall Score:  0.8209255533199196\n"
     ]
    }
   ],
   "source": [
    "# Random Forest\n",
    "cm_rfm = confusion_matrix(y_test, rfm_ypred)\n",
    "print('For Random Forest')\n",
    "print('Confusion Matrix: ')\n",
    "print(cm_rfm)\n",
    "acc_rfm = accuracy_score(y_test, rfm_ypred)\n",
    "pre_rfm = precision_score(y_test, rfm_ypred)\n",
    "rec_rfm = recall_score(y_test, rfm_ypred)\n",
    "print('Accuracy Score: ',acc_rfm)\n",
    "print('Precision Score: ',pre_rfm)\n",
    "print('Recall Score: ',rec_rfm)"
   ]
  },
  {
   "cell_type": "code",
   "execution_count": 54,
   "id": "3948669c",
   "metadata": {},
   "outputs": [
    {
     "name": "stdout",
     "output_type": "stream",
     "text": [
      "For Logistic Regression\n",
      "Confusion Matrix: \n",
      "[[594 412]\n",
      " [189 805]]\n",
      "Accuracy Score:  0.6995\n",
      "Precision Score:  0.6614626129827444\n",
      "Recall Score:  0.8098591549295775\n"
     ]
    }
   ],
   "source": [
    "#Confusion Matrix\n",
    "\n",
    "# Logistic Regression\n",
    "cm_lr = confusion_matrix(y_test, lr_ypred)\n",
    "print('For Logistic Regression')\n",
    "print('Confusion Matrix: ')\n",
    "print(cm_lr)\n",
    "acc_lr = accuracy_score(y_test, lr_ypred)\n",
    "pre_lr = precision_score(y_test, lr_ypred)\n",
    "rec_lr = recall_score(y_test, lr_ypred)\n",
    "print('Accuracy Score: ',acc_lr)\n",
    "print('Precision Score: ',pre_lr)\n",
    "print('Recall Score: ',rec_lr)"
   ]
  },
  {
   "cell_type": "code",
   "execution_count": 55,
   "id": "05aef0bd",
   "metadata": {},
   "outputs": [
    {
     "name": "stdout",
     "output_type": "stream",
     "text": [
      "For Decision Tree\n",
      "Confusion Matrix: \n",
      "[[539 467]\n",
      " [173 821]]\n",
      "Accuracy Score:  0.68\n",
      "Precision Score:  0.6374223602484472\n",
      "Recall Score:  0.8259557344064387\n"
     ]
    }
   ],
   "source": [
    "# Decision Tree\n",
    "cm_dtree = confusion_matrix(y_test, dtree_ypred)\n",
    "print('For Decision Tree')\n",
    "print('Confusion Matrix: ')\n",
    "print(cm_dtree)\n",
    "acc_dtree = accuracy_score(y_test, dtree_ypred)\n",
    "pre_dtree = precision_score(y_test, dtree_ypred)\n",
    "rec_dtree = recall_score(y_test, dtree_ypred)\n",
    "print('Accuracy Score: ',acc_dtree)\n",
    "print('Precision Score: ',pre_dtree)\n",
    "print('Recall Score: ',rec_dtree)"
   ]
  },
  {
   "cell_type": "code",
   "execution_count": 56,
   "id": "3664767e",
   "metadata": {},
   "outputs": [
    {
     "name": "stdout",
     "output_type": "stream",
     "text": [
      "The domain is a legitimate domain.\n"
     ]
    }
   ],
   "source": [
    "domain_name = input(\"Enter a domain name: \")\n",
    "preprocessed_input = preprocess_column(domain_name)\n",
    "x_input = cv.transform([preprocessed_input]).toarray()\n",
    "y_pred = rfm.predict(x_input)\n",
    "\n",
    "if y_pred == 0:\n",
    "    print(\"The domain is a DGA domain.\")\n",
    "else:\n",
    "    print(\"The domain is a legitimate domain.\")"
   ]
  },
  {
   "cell_type": "markdown",
   "id": "63207ae8",
   "metadata": {},
   "source": [
    "# Pickling the Model file for Deployment"
   ]
  },
  {
   "cell_type": "code",
   "execution_count": 57,
   "id": "e86dbf82",
   "metadata": {},
   "outputs": [],
   "source": [
    "model = RandomForestClassifier()\n",
    "rfc = model.fit(x_train,y_train)\n",
    "rfc_ypred= model.predict(x_test)"
   ]
  },
  {
   "cell_type": "code",
   "execution_count": 58,
   "id": "a29499d9",
   "metadata": {},
   "outputs": [],
   "source": [
    "import pickle"
   ]
  },
  {
   "cell_type": "code",
   "execution_count": 59,
   "id": "46c7dc38",
   "metadata": {},
   "outputs": [],
   "source": [
    "pickle.dump(model, open(\"dga_botnet.pkl\", 'wb'))"
   ]
  },
  {
   "cell_type": "code",
   "execution_count": 60,
   "id": "20b8f70a",
   "metadata": {},
   "outputs": [],
   "source": [
    "pickled_model=pickle.load(open('dga_botnet.pkl', 'rb'))"
   ]
  },
  {
   "cell_type": "code",
   "execution_count": 61,
   "id": "e00a3aa9",
   "metadata": {},
   "outputs": [
    {
     "data": {
      "text/plain": [
       "array([1])"
      ]
     },
     "execution_count": 61,
     "metadata": {},
     "output_type": "execute_result"
    }
   ],
   "source": [
    "pickled_model.predict(x_input)"
   ]
  }
 ],
 "metadata": {
  "kernelspec": {
   "display_name": "Python 3 (ipykernel)",
   "language": "python",
   "name": "python3"
  },
  "language_info": {
   "codemirror_mode": {
    "name": "ipython",
    "version": 3
   },
   "file_extension": ".py",
   "mimetype": "text/x-python",
   "name": "python",
   "nbconvert_exporter": "python",
   "pygments_lexer": "ipython3",
   "version": "3.10.7"
  }
 },
 "nbformat": 4,
 "nbformat_minor": 5
}
